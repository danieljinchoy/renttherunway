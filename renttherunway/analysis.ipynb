{
 "cells": [
  {
   "cell_type": "markdown",
   "metadata": {},
   "source": [
    "### Web Scraping Project - Rent the Runway"
   ]
  },
  {
   "cell_type": "markdown",
   "metadata": {},
   "source": [
    "#### 1. Import Library\n"
   ]
  },
  {
   "cell_type": "code",
   "execution_count": 3,
   "metadata": {},
   "outputs": [],
   "source": [
    "# import library\n",
    "import matplotlib.pyplot as plt\n",
    "import matplotlib.dates as dates\n",
    "%matplotlib inline\n",
    "import seaborn as sns\n",
    "import pandas as pd\n",
    "import matplotlib as mpl\n",
    "import sklearn\n",
    "import chart_studio.plotly as py\n",
    "import numpy as np\n",
    "from datetime import datetime\n",
    "import statsmodels.api as sm\n",
    "import scipy.stats"
   ]
  },
  {
   "cell_type": "markdown",
   "metadata": {},
   "source": [
    "#### 2. Import Data\n"
   ]
  },
  {
   "cell_type": "code",
   "execution_count": 4,
   "metadata": {},
   "outputs": [],
   "source": [
    "# read csv data and save it as dataframes\n",
    "saks = pd.read_csv('saksfifthavenue.csv', header = 0)"
   ]
  },
  {
   "cell_type": "code",
   "execution_count": 15,
   "metadata": {},
   "outputs": [],
   "source": [
    "rent = pd.read_csv('renttherunway_final.csv', header = 0)\n",
    "rent_reviews = pd.read_csv('renttherunway_reviews.csv', header = 0)"
   ]
  },
  {
   "cell_type": "code",
   "execution_count": 13,
   "metadata": {},
   "outputs": [
    {
     "data": {
      "text/html": [
       "<div>\n",
       "<style scoped>\n",
       "    .dataframe tbody tr th:only-of-type {\n",
       "        vertical-align: middle;\n",
       "    }\n",
       "\n",
       "    .dataframe tbody tr th {\n",
       "        vertical-align: top;\n",
       "    }\n",
       "\n",
       "    .dataframe thead th {\n",
       "        text-align: right;\n",
       "    }\n",
       "</style>\n",
       "<table border=\"1\" class=\"dataframe\">\n",
       "  <thead>\n",
       "    <tr style=\"text-align: right;\">\n",
       "      <th></th>\n",
       "      <th>Unnamed: 0</th>\n",
       "      <th>brand</th>\n",
       "      <th>name</th>\n",
       "      <th>original_price</th>\n",
       "      <th>price</th>\n",
       "      <th>num_reviews</th>\n",
       "      <th>mem_price</th>\n",
       "      <th>review_title</th>\n",
       "      <th>reviews</th>\n",
       "      <th>username</th>\n",
       "      <th>rented_for</th>\n",
       "      <th>category</th>\n",
       "    </tr>\n",
       "  </thead>\n",
       "  <tbody>\n",
       "    <tr>\n",
       "      <th>0</th>\n",
       "      <td>1</td>\n",
       "      <td>Tibi</td>\n",
       "      <td>Asymmetrical Ruffle Blouse</td>\n",
       "      <td>$495 original retail</td>\n",
       "      <td>$85</td>\n",
       "      <td>-19.0</td>\n",
       "      <td>Memberships from $69</td>\n",
       "      <td>NaN</td>\n",
       "      <td>It's hard to see how rich and gorgeous this co...</td>\n",
       "      <td>NaN</td>\n",
       "      <td>NaN</td>\n",
       "      <td>Top</td>\n",
       "    </tr>\n",
       "    <tr>\n",
       "      <th>1</th>\n",
       "      <td>2</td>\n",
       "      <td>Joie</td>\n",
       "      <td>Dicra Pants</td>\n",
       "      <td>$248 original retail</td>\n",
       "      <td>$40</td>\n",
       "      <td>-14.0</td>\n",
       "      <td>Memberships from $69</td>\n",
       "      <td>NaN</td>\n",
       "      <td>A bit tight on hips and thighs but perfect len...</td>\n",
       "      <td>NaN</td>\n",
       "      <td>NaN</td>\n",
       "      <td>Bottoms</td>\n",
       "    </tr>\n",
       "    <tr>\n",
       "      <th>2</th>\n",
       "      <td>3</td>\n",
       "      <td>Terez</td>\n",
       "      <td>Reflective Stripe Legging</td>\n",
       "      <td>$120 original retail</td>\n",
       "      <td>$30</td>\n",
       "      <td>-4.0</td>\n",
       "      <td>Memberships from $69</td>\n",
       "      <td>NaN</td>\n",
       "      <td>NaN</td>\n",
       "      <td>NaN</td>\n",
       "      <td>True to Size</td>\n",
       "      <td>Bottoms</td>\n",
       "    </tr>\n",
       "    <tr>\n",
       "      <th>3</th>\n",
       "      <td>4</td>\n",
       "      <td>Cedric Charlier</td>\n",
       "      <td>Orange Knit Sweater</td>\n",
       "      <td>$595 original retail</td>\n",
       "      <td>$100</td>\n",
       "      <td>-32.0</td>\n",
       "      <td>Memberships from $69</td>\n",
       "      <td>NaN</td>\n",
       "      <td>NaN</td>\n",
       "      <td>NaN</td>\n",
       "      <td>Small</td>\n",
       "      <td>Sweater</td>\n",
       "    </tr>\n",
       "    <tr>\n",
       "      <th>4</th>\n",
       "      <td>5</td>\n",
       "      <td>Diane von Furstenberg</td>\n",
       "      <td>Mariah Top</td>\n",
       "      <td>$268 original retail</td>\n",
       "      <td>$45</td>\n",
       "      <td>-46.0</td>\n",
       "      <td>Memberships from $69</td>\n",
       "      <td>NaN</td>\n",
       "      <td>I wore this to work and loved it. It fit perfe...</td>\n",
       "      <td>NaN</td>\n",
       "      <td>NaN</td>\n",
       "      <td>Top</td>\n",
       "    </tr>\n",
       "  </tbody>\n",
       "</table>\n",
       "</div>"
      ],
      "text/plain": [
       "   Unnamed: 0                  brand                        name  \\\n",
       "0           1                   Tibi  Asymmetrical Ruffle Blouse   \n",
       "1           2                   Joie                 Dicra Pants   \n",
       "2           3                  Terez   Reflective Stripe Legging   \n",
       "3           4        Cedric Charlier         Orange Knit Sweater   \n",
       "4           5  Diane von Furstenberg                  Mariah Top   \n",
       "\n",
       "         original_price price  num_reviews             mem_price review_title  \\\n",
       "0  $495 original retail   $85        -19.0  Memberships from $69          NaN   \n",
       "1  $248 original retail   $40        -14.0  Memberships from $69          NaN   \n",
       "2  $120 original retail   $30         -4.0  Memberships from $69          NaN   \n",
       "3  $595 original retail  $100        -32.0  Memberships from $69          NaN   \n",
       "4  $268 original retail   $45        -46.0  Memberships from $69          NaN   \n",
       "\n",
       "                                             reviews username    rented_for  \\\n",
       "0  It's hard to see how rich and gorgeous this co...      NaN           NaN   \n",
       "1  A bit tight on hips and thighs but perfect len...      NaN           NaN   \n",
       "2                                                NaN      NaN  True to Size   \n",
       "3                                                NaN      NaN         Small   \n",
       "4  I wore this to work and loved it. It fit perfe...      NaN           NaN   \n",
       "\n",
       "  category  \n",
       "0      Top  \n",
       "1  Bottoms  \n",
       "2  Bottoms  \n",
       "3  Sweater  \n",
       "4      Top  "
      ]
     },
     "execution_count": 13,
     "metadata": {},
     "output_type": "execute_result"
    }
   ],
   "source": [
    "rent.head(5)"
   ]
  },
  {
   "cell_type": "markdown",
   "metadata": {},
   "source": [
    "#### 3. Data Cleaning"
   ]
  },
  {
   "cell_type": "code",
   "execution_count": 14,
   "metadata": {},
   "outputs": [
    {
     "data": {
      "text/plain": [
       "Text(0.5, 1, 'Rent the Runway Missing Data')"
      ]
     },
     "execution_count": 14,
     "metadata": {},
     "output_type": "execute_result"
    },
    {
     "data": {
      "image/png": "[encoded data removed]",
      "text/plain": [
       "<Figure size 1008x504 with 2 Axes>"
      ]
     },
     "metadata": {
      "needs_background": "light"
     },
     "output_type": "display_data"
    }
   ],
   "source": [
    "from IPython.display import display, HTML\n",
    "# Look at missing data\n",
    "cm = sns.light_palette(\"green\",as_cmap=True)\n",
    "plt.figure(figsize=(14,7))\n",
    "\n",
    "plt.subplot(1,4,1)\n",
    "sns.heatmap(pd.DataFrame(rent.isnull().sum()/rent.shape[0]*100),annot=True,cmap=sns.color_palette(\"Blues\"),\n",
    "           linewidth=2,linecolor=\"white\")\n",
    "plt.title(\"Rent the Runway Missing Data\")\n"
   ]
  },
  {
   "cell_type": "code",
   "execution_count": null,
   "metadata": {},
   "outputs": [],
   "source": []
  },
  {
   "cell_type": "code",
   "execution_count": null,
   "metadata": {},
   "outputs": [],
   "source": []
  },
  {
   "cell_type": "code",
   "execution_count": null,
   "metadata": {},
   "outputs": [],
   "source": []
  },
  {
   "cell_type": "code",
   "execution_count": null,
   "metadata": {},
   "outputs": [],
   "source": []
  },
  {
   "cell_type": "markdown",
   "metadata": {},
   "source": [
    "#### 4. Data Analysis"
   ]
  },
  {
   "cell_type": "code",
   "execution_count": null,
   "metadata": {},
   "outputs": [],
   "source": []
  },
  {
   "cell_type": "code",
   "execution_count": null,
   "metadata": {},
   "outputs": [],
   "source": []
  },
  {
   "cell_type": "code",
   "execution_count": null,
   "metadata": {},
   "outputs": [],
   "source": []
  },
  {
   "cell_type": "markdown",
   "metadata": {},
   "source": [
    "#### 5. Data Visualization"
   ]
  },
  {
   "cell_type": "code",
   "execution_count": null,
   "metadata": {},
   "outputs": [],
   "source": []
  },
  {
   "cell_type": "code",
   "execution_count": null,
   "metadata": {},
   "outputs": [],
   "source": []
  },
  {
   "cell_type": "code",
   "execution_count": null,
   "metadata": {},
   "outputs": [],
   "source": []
  },
  {
   "cell_type": "markdown",
   "metadata": {},
   "source": [
    "#### 6. Conclusion"
   ]
  },
  {
   "cell_type": "code",
   "execution_count": null,
   "metadata": {},
   "outputs": [],
   "source": []
  }
 ],
 "metadata": {
  "kernelspec": {
   "display_name": "Python 3",
   "language": "python",
   "name": "python3"
  },
  "language_info": {
   "codemirror_mode": {
    "name": "ipython",
    "version": 3
   },
   "file_extension": ".py",
   "mimetype": "text/x-python",
   "name": "python",
   "nbconvert_exporter": "python",
   "pygments_lexer": "ipython3",
   "version": "3.7.6"
  }
 },
 "nbformat": 4,
 "nbformat_minor": 4
}
